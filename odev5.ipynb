{
 "cells": [
  {
   "cell_type": "code",
   "execution_count": 9,
   "id": "d7240d10",
   "metadata": {},
   "outputs": [
    {
     "name": "stdout",
     "output_type": "stream",
     "text": [
      "İsminizi giriniz: ayşe\n",
      "Ders ismi giriniz: kimya\n",
      "ayşe, kimya notun: 68\n",
      "İsminizi giriniz: doruk\n",
      "Ders ismi giriniz: matematik\n",
      "doruk, matematik notun: 58\n",
      "İsminizi giriniz: barış\n",
      "Ders ismi giriniz: müzik\n",
      "Geçersiz ders.\n"
     ]
    }
   ],
   "source": [
    "key = 0\n",
    "while key == 0:\n",
    "    isim = input(\"İsminizi giriniz: \")\n",
    "    ders = input(\"Ders ismi giriniz: \")\n",
    "\n",
    "    not_bilgileri = {\"ayşe\":[\"35\",\"89\",\"68\"],\n",
    "                     \"barış\":[\"23\",\"12\",\"45\"],\n",
    "                     \"doruk\":[\"58\",\"48\",\"23\"]}\n",
    "    \n",
    "    if ders == \"matematik\":\n",
    "        i = not_bilgileri[isim][0]\n",
    "    elif ders == \"fizik\":\n",
    "        i = not_bilgileri[isim][1]\n",
    "    elif ders == \"kimya\":\n",
    "        i = not_bilgileri[isim][2]\n",
    "    else:\n",
    "        print(\"Geçersiz ders.\")\n",
    "        break\n",
    "    \n",
    "    print(\"{}, {} notun: {}\".format(isim,ders,i))\n",
    "    "
   ]
  },
  {
   "cell_type": "code",
   "execution_count": 12,
   "id": "dcef86b4",
   "metadata": {},
   "outputs": [
    {
     "data": {
      "text/plain": [
       "{'saat': 'clock',\n",
       " 'araba': 'car',\n",
       " 'ev': 'home',\n",
       " 'sandalye': 'chair',\n",
       " 'bardak': 'glass'}"
      ]
     },
     "execution_count": 12,
     "metadata": {},
     "output_type": "execute_result"
    }
   ],
   "source": [
    "turkce_ingilizce_sozluk = {\"saat\":\"clock\", \"araba\":\"car\", \"ev\":\"home\", \"sandalye\":\"chair\"}\n",
    "turkce_ingilizce_sozluk [\"bardak\"] = \"glass\"\n",
    "turkce_ingilizce_sozluk"
   ]
  },
  {
   "cell_type": "code",
   "execution_count": 13,
   "id": "971cd1dc",
   "metadata": {},
   "outputs": [],
   "source": [
    "turkce_ingilizce_sozluk[\"saat\"] = turkce_ingilizce_sozluk[\"ev\"]"
   ]
  },
  {
   "cell_type": "code",
   "execution_count": 19,
   "id": "069f1e30",
   "metadata": {},
   "outputs": [
    {
     "data": {
      "text/plain": [
       "{'saat': 'home',\n",
       " 'araba': 'car',\n",
       " 'ev': 'home',\n",
       " 'sandalye': 'chair',\n",
       " 'bardak': 'glass'}"
      ]
     },
     "execution_count": 19,
     "metadata": {},
     "output_type": "execute_result"
    }
   ],
   "source": [
    "turkce_ingilizce_sozluk"
   ]
  },
  {
   "cell_type": "code",
   "execution_count": 20,
   "id": "ead94ecf",
   "metadata": {},
   "outputs": [
    {
     "data": {
      "text/plain": [
       "{'saat': 'clock',\n",
       " 'araba': 'car',\n",
       " 'ev': 'home',\n",
       " 'sandalye': 'chair',\n",
       " 'bardak': 'glass'}"
      ]
     },
     "execution_count": 20,
     "metadata": {},
     "output_type": "execute_result"
    }
   ],
   "source": [
    "turkce_ingilizce_sozluk[\"saat\"] = \"clock\"\n",
    "turkce_ingilizce_sozluk"
   ]
  },
  {
   "cell_type": "code",
   "execution_count": 21,
   "id": "f6e8c675",
   "metadata": {},
   "outputs": [
    {
     "name": "stdout",
     "output_type": "stream",
     "text": [
      "Kelime giriniz: saat\n",
      "saat kelimesinin ingilizce karşılığı clock kelimesidir.\n"
     ]
    }
   ],
   "source": [
    "kelime = input(\"Kelime giriniz: \")\n",
    "print(\"{} kelimesinin ingilizce karşılığı {} kelimesidir.\".format(kelime,turkce_ingilizce_sozluk[kelime]))"
   ]
  },
  {
   "cell_type": "code",
   "execution_count": null,
   "id": "117a94fb",
   "metadata": {},
   "outputs": [],
   "source": []
  }
 ],
 "metadata": {
  "kernelspec": {
   "display_name": "Python 3 (ipykernel)",
   "language": "python",
   "name": "python3"
  },
  "language_info": {
   "codemirror_mode": {
    "name": "ipython",
    "version": 3
   },
   "file_extension": ".py",
   "mimetype": "text/x-python",
   "name": "python",
   "nbconvert_exporter": "python",
   "pygments_lexer": "ipython3",
   "version": "3.11.7"
  }
 },
 "nbformat": 4,
 "nbformat_minor": 5
}
